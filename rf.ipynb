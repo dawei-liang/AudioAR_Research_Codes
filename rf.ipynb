{
 "cells": [
  {
   "cell_type": "code",
   "execution_count": 28,
   "metadata": {
    "collapsed": true
   },
   "outputs": [],
   "source": [
    "import os\n",
    "import pandas as pd\n",
    "import numpy as np\n",
    "\n",
    "from sklearn.model_selection import train_test_split\n",
    "from sklearn.ensemble import RandomForestClassifier\n",
    "from sklearn.svm import LinearSVC\n",
    "from sklearn.svm import SVC\n",
    "from sklearn import tree\n",
    "from sklearn.neighbors import KNeighborsClassifier\n",
    "from sklearn.metrics import confusion_matrix, f1_score, precision_score, recall_score, accuracy_score\n",
    "\n",
    "from sklearn.externals import joblib\n",
    "\n",
    "dataset_dir = './CSV_files/'   # Path to load raw Audio Set data\n",
    "resampling_path = './SMOTE_data/'   # Path to load oversampled Audio Set training data\n",
    "test_data_dir = './'   # Path to load real-world data for dedicated study\n",
    "save_model_dir = './well_trained_classifiers_SMOTE/'   # Path to save/load CNN model\n",
    "classes = ['Bathing',\n",
    "          'Flushing toilet',\n",
    "          'Brushing teeth',\n",
    "          'Shavering',\n",
    "          'Frying food',\n",
    "          'Chopping food',\n",
    "          'Using microwave oven',\n",
    "          'Boiling water', \n",
    "          'Squeezing juice',\n",
    "          'Watching TV', \n",
    "          'Playing Music', \n",
    "          'Vacuum cleaning',  \n",
    "          'Washing',\n",
    "          'Chatting', \n",
    "          'Strolling']\n",
    "\n",
    "using_raw_data = False   # True: using raw embeddings; False: using oversampled embeddings"
   ]
  },
  {
   "cell_type": "code",
   "execution_count": 2,
   "metadata": {
    "collapsed": true
   },
   "outputs": [],
   "source": [
    "def uint8_to_float32(x):   # Standardrization\n",
    "    return (np.float32(x) - 128.) / 128."
   ]
  },
  {
   "cell_type": "code",
   "execution_count": 3,
   "metadata": {},
   "outputs": [
    {
     "name": "stdout",
     "output_type": "stream",
     "text": [
      "['unbal_10.csv', 'bal+eval_8.csv', 'bal+eval_0.csv', 'bal+eval_10.csv', 'bal+eval_2.csv', 'unbal_9.csv', 'bal+eval_14.csv', 'unbal_3.csv', 'bal+eval_11.csv', 'unbal_7.csv', 'unbal_1.csv', 'unbal_4.csv', 'bal+eval_18.csv', 'unbal_15.csv', 'unbal_5.csv', 'unbal_2.csv', 'unbal_14.csv', 'unbal_17.csv', 'unbal_6.csv', 'unbal_18.csv', 'unbal_16.csv', 'unbal_12.csv', 'bal+eval_5.csv', 'bal+eval_4.csv', 'unbal_8.csv', 'bal+eval_1.csv', 'bal+eval_13.csv', 'bal+eval_16.csv', 'bal+eval_12.csv', 'bal+eval_3.csv', 'bal+eval_7.csv', 'bal+eval_15.csv', 'unbal_0.csv', 'bal+eval_6.csv', 'bal+eval_9.csv', 'bal+eval_17.csv', 'unbal_13.csv', 'unbal_11.csv']\n",
      "# of Bathing embeddings: 14270 \n",
      "\n",
      "# of Flushing toilet embeddings: 22190 \n",
      "\n",
      "# of Brushing teeth embeddings: 1230 \n",
      "\n",
      "# of Shavering embeddings: 8570 \n",
      "\n",
      "# of Frying food embeddings: 15820 \n",
      "\n",
      "# of Chopping food embeddings: 2060 \n",
      "\n",
      "# of Using microwave oven embeddings: 8180 \n",
      "\n",
      "# of Boiling water embeddings: 4440 \n",
      "\n",
      "# of Squeezing juice embeddings: 12600 \n",
      "\n",
      "# of Watching TV embeddings: 22250 \n",
      "\n",
      "# of Playing Music embeddings: 115200 \n",
      "\n",
      "# of Vacuum cleaning embeddings: 19710 \n",
      "\n",
      "# of Washing embeddings: 17080 \n",
      "\n",
      "# of Chatting embeddings: 174220 \n",
      "\n",
      "# of Strolling embeddings: 81450 \n",
      "\n",
      "Total training set size: (519270, 128) \n",
      "\n",
      "# of Bathing labels: 14270\n",
      "# of Flushing toilet labels: 22190\n",
      "# of Brushing teeth labels: 1230\n",
      "# of Shavering labels: 8570\n",
      "# of Frying food labels: 15820\n",
      "# of Chopping food labels: 2060\n",
      "# of Using microwave oven labels: 8180\n",
      "# of Boiling water labels: 4440\n",
      "# of Squeezing juice labels: 12600\n",
      "# of Watching TV labels: 22250\n",
      "# of Playing Music labels: 115200\n",
      "# of Vacuum cleaning labels: 19710\n",
      "# of Washing labels: 17080\n",
      "# of Chatting labels: 174220\n",
      "# of Strolling labels: 81450\n",
      "Total training label size: (519270,) \n",
      "\n"
     ]
    }
   ],
   "source": [
    "'''Codes to load raw embeddings'''\n",
    "\n",
    "if using_raw_data == True:\n",
    "    training_data = [pd.DataFrame() for i in range(len(classes))]\n",
    "    training_labels = [] \n",
    "    training_data_fit = pd.DataFrame()\n",
    "    \n",
    "    '''Input raw embeddings'''  \n",
    "    training_sets = [x for x in os.listdir(dataset_dir) if x.endswith('.csv')]\n",
    "    print (training_sets)\n",
    "    for file_name in training_sets:\n",
    "        class_index = int(file_name.split('_')[-1].strip('.csv'))\n",
    "        temp_data = pd.read_csv(dataset_dir + file_name, header=None)\n",
    "        # 11 single classes, filter 'lawn mower' (csv index 12)\n",
    "        if class_index <= 11:   \n",
    "            training_data[class_index] = training_data[class_index].append(temp_data)\n",
    "        # Washing\n",
    "        elif class_index == 13 or class_index == 14:   \n",
    "            training_data[12] = training_data[12].append(temp_data)\n",
    "        # Speaking\n",
    "        elif class_index == 15 or class_index == 16:   \n",
    "            training_data[13] = training_data[13].append(temp_data)\n",
    "        # Step walking\n",
    "        elif class_index == 17 or class_index == 18:   \n",
    "            training_data[14] = training_data[14].append(temp_data)\n",
    "    for i in range(len(training_data)):\n",
    "        training_data[i] = pd.DataFrame(training_data[i])\n",
    "        print('# of %s' % classes[i] + ' embeddings: %d' % training_data[i].shape[0], '\\n')\n",
    "        training_data_fit = training_data_fit.append(training_data[i])\n",
    "        \n",
    "    training_data_fit = training_data_fit.values   # Training data to fit the classifiers\n",
    "    print('Total training set size:', training_data_fit.shape, '\\n')\n",
    "    \n",
    "    '''Set training labels'''\n",
    "    for i in range(len(training_data)):\n",
    "        label_count = 0\n",
    "        for row in range(training_data[i].shape[0]):   # Set training labels for each class\n",
    "            training_labels.append(i)\n",
    "            label_count += 1\n",
    "        print('# of %s' % classes[i] + ' labels: %d' % label_count)\n",
    "    training_labels = np.asarray(training_labels)\n",
    "    training_labels = np.ndarray.flatten(training_labels)   # Training labels to fit the classifiers\n",
    "    print('Total training label size:', training_labels.shape, '\\n')"
   ]
  },
  {
   "cell_type": "code",
   "execution_count": 29,
   "metadata": {},
   "outputs": [
    {
     "name": "stdout",
     "output_type": "stream",
     "text": [
      "training_data_fit shape: (2613300, 128)\n",
      "training_labels shape: (2613300, 1)\n"
     ]
    }
   ],
   "source": [
    "'''Codes to load oversampled embeddings'''  \n",
    "\n",
    "if using_raw_data == False:\n",
    "    training_data_fit = pd.read_csv(resampling_path + 'SMOTE_data_15classes.csv',\n",
    "                                    header=None).values   # Training set\n",
    "    training_labels = pd.read_csv(resampling_path + 'SMOTE_labels_15classes.csv',\n",
    "                                    header=None).values\n",
    "    print ('training_data_fit shape:', training_data_fit.shape)\n",
    "    print ('training_labels shape:', training_labels.shape)"
   ]
  },
  {
   "cell_type": "code",
   "execution_count": 30,
   "metadata": {},
   "outputs": [
    {
     "name": "stdout",
     "output_type": "stream",
     "text": [
      "training_data_fit shape: (2351970, 128)\n",
      "training_labels shape: (2351970, 1)\n",
      "eval_data_fit shape: (261330, 128)\n",
      "eval_labels shape: (261330, 1)\n"
     ]
    }
   ],
   "source": [
    "'''Train validation split'''\n",
    "\n",
    "\n",
    "training_data_fit, eval_data, training_labels, eval_labels = train_test_split(training_data_fit, training_labels, \n",
    "                                                                              test_size=0.1,\n",
    "                                                                             random_state=0)\n",
    "print ('training_data_fit shape:', training_data_fit.shape)\n",
    "print ('training_labels shape:', training_labels.shape)\n",
    "print ('eval_data_fit shape:', eval_data.shape)\n",
    "print ('eval_labels shape:', eval_labels.shape)"
   ]
  },
  {
   "cell_type": "code",
   "execution_count": 6,
   "metadata": {},
   "outputs": [
    {
     "name": "stdout",
     "output_type": "stream",
     "text": [
      "test_data_mean.shape: (90, 128) \n",
      "\n"
     ]
    }
   ],
   "source": [
    "''' Load dedicated study data '''\n",
    "\n",
    "file_test = pd.read_csv(test_data_dir + 'feasibility_overall_0726.csv',\n",
    "                        header=None)   # Load evaluation set\n",
    "test_data = file_test.values[:,0:128]\n",
    "test_data = uint8_to_float32(test_data)\n",
    "array_stack = test_data[0]   # Create an array to store the meaned test data\n",
    "\n",
    "i = 0\n",
    "while i < test_data.shape[0]-9:   # Average every 10 sec\n",
    "    try:\n",
    "        temp = test_data[i]\n",
    "        temp = np.vstack((temp, test_data[i+1]))\n",
    "        temp = np.vstack((temp, test_data[i+2]))\n",
    "        temp = np.vstack((temp, test_data[i+3]))\n",
    "        temp = np.vstack((temp, test_data[i+4]))\n",
    "        temp = np.vstack((temp, test_data[i+5]))\n",
    "        temp = np.vstack((temp, test_data[i+6]))\n",
    "        temp = np.vstack((temp, test_data[i+7]))\n",
    "        temp = np.vstack((temp, test_data[i+8]))\n",
    "        temp = np.vstack((temp, test_data[i+9]))\n",
    "        array_stack = np.vstack((array_stack, np.mean(temp, axis = 0)))\n",
    "        i += 10\n",
    "    except:\n",
    "        print('Segment not able to be grouped by 10 seconds')\n",
    "        pass\n",
    "test_data_mean = array_stack[1:,:]   # Meaned test data to predict\n",
    "print('test_data_mean.shape:', test_data_mean.shape, '\\n')"
   ]
  },
  {
   "cell_type": "code",
   "execution_count": 7,
   "metadata": {},
   "outputs": [
    {
     "name": "stdout",
     "output_type": "stream",
     "text": [
      "TruthLabels shape: (90,) \n",
      "\n"
     ]
    }
   ],
   "source": [
    "'''Set dedicated study groud truth labels'''   \n",
    "truthLabels = []   # Groundtruth for evaluation data\n",
    "\n",
    "for i in range(len(classes)):\n",
    "    test_label_count = 0\n",
    "    for test_label_count in range(0, int(test_data_mean.shape[0] / len(classes))):\n",
    "        truthLabels.append(i)\n",
    "    continue\n",
    "truthLabels = np.asarray(truthLabels)\n",
    "truthLabels = np.ndarray.flatten(truthLabels)\n",
    "print('TruthLabels shape:', truthLabels.shape, '\\n')"
   ]
  },
  {
   "cell_type": "code",
   "execution_count": 8,
   "metadata": {},
   "outputs": [
    {
     "name": "stdout",
     "output_type": "stream",
     "text": [
      "0\n"
     ]
    }
   ],
   "source": [
    "print(truthLabels[0])"
   ]
  },
  {
   "cell_type": "code",
   "execution_count": 31,
   "metadata": {},
   "outputs": [
    {
     "name": "stdout",
     "output_type": "stream",
     "text": [
      "Selection is: RandomForestClassifier(bootstrap=True, class_weight=None, criterion='gini',\n",
      "            max_depth=None, max_features='auto', max_leaf_nodes=None,\n",
      "            min_impurity_decrease=0.0, min_impurity_split=None,\n",
      "            min_samples_leaf=1, min_samples_split=2,\n",
      "            min_weight_fraction_leaf=0.0, n_estimators=500, n_jobs=-1,\n",
      "            oob_score=False, random_state=0, verbose=0, warm_start=False)\n",
      "Start training...\n"
     ]
    },
    {
     "name": "stderr",
     "output_type": "stream",
     "text": [
      "/home/05563/dl33629/WORK/anaconda3/lib/python3.6/site-packages/ipykernel_launcher.py:12: DataConversionWarning: A column-vector y was passed when a 1d array was expected. Please change the shape of y to (n_samples,), for example using ravel().\n",
      "  if sys.path[0] == '':\n"
     ]
    },
    {
     "name": "stdout",
     "output_type": "stream",
     "text": [
      "Training completes\n"
     ]
    }
   ],
   "source": [
    "'''Fit classifiers'''\n",
    "\n",
    "classifiers = [LinearSVC(random_state=0), \n",
    "               SVC(kernel='sigmoid', random_state = 0),\n",
    "               RandomForestClassifier(n_estimators=500, max_features ='auto', random_state = 0, n_jobs=-1),\n",
    "               tree.DecisionTreeClassifier(),\n",
    "               KNeighborsClassifier(n_neighbors=20)]\n",
    "\n",
    "clf = classifiers[2]   # Select classifier\n",
    "print('Selection is:', clf)\n",
    "print('Start training...')\n",
    "clf.fit(training_data_fit, training_labels) \n",
    "print('Training completes')\n"
   ]
  },
  {
   "cell_type": "code",
   "execution_count": 32,
   "metadata": {},
   "outputs": [
    {
     "name": "stdout",
     "output_type": "stream",
     "text": [
      "acc: 0.9641870432020817 \n",
      " F1: 0.9642268905578348 \n",
      " precision: 0.9646983296562046 \n",
      " recall: 0.9641870432020817\n"
     ]
    }
   ],
   "source": [
    "'''Validation'''\n",
    "\n",
    "prediction = []\n",
    "prediction.append(clf.predict(eval_data))   \n",
    "C = confusion_matrix(eval_labels, prediction[0])\n",
    "acc = accuracy_score(eval_labels, prediction[0])\n",
    "F1 = f1_score(eval_labels, prediction[0], average='weighted')\n",
    "precision = precision_score(eval_labels, prediction[0], average='weighted')\n",
    "recall = recall_score(eval_labels, prediction[0], average='weighted')\n",
    "\n",
    "print('acc:', acc, '\\n', 'F1:', F1, '\\n', 'precision:', precision, '\\n', 'recall:', recall)"
   ]
  },
  {
   "cell_type": "code",
   "execution_count": 34,
   "metadata": {},
   "outputs": [
    {
     "name": "stdout",
     "output_type": "stream",
     "text": [
      "Model saved, file name: RandomForestClassifier_n_estimators_500_max_features_auto_random_state_0_15classes\n"
     ]
    }
   ],
   "source": [
    "'''Save classifier'''\n",
    "\n",
    "para = clf.get_params()  \n",
    "filename =  str(clf).split('(')[0] + '_n_estimators_' + str(para['n_estimators']) \\\n",
    "            + '_max_features_' + str(para['max_features']) \\\n",
    "            + '_random_state_' + str(para['random_state']) \\\n",
    "            +'_15classes'\n",
    "joblib.dump(clf, save_model_dir + filename)\n",
    "print('Model saved, file name:', filename)"
   ]
  },
  {
   "cell_type": "code",
   "execution_count": 35,
   "metadata": {},
   "outputs": [
    {
     "name": "stdout",
     "output_type": "stream",
     "text": [
      "Loaded clf: RandomForestClassifier_n_estimators_500_max_features_auto_random_state_0_15classes\n"
     ]
    }
   ],
   "source": [
    "'''Load classifier'''\n",
    "\n",
    "clf = joblib.load(save_model_dir + filename)\n",
    "print('Loaded clf:', filename)"
   ]
  },
  {
   "cell_type": "code",
   "execution_count": 36,
   "metadata": {},
   "outputs": [
    {
     "name": "stdout",
     "output_type": "stream",
     "text": [
      "Prediction: [ 1  1 11  1  1  1  9 11  3  3]\n",
      "acc: 0.45555555555555555 \n",
      " F1: 0.3709660274366156 \n",
      " precision: 0.34866522366522373 \n",
      " recall: 0.45555555555555555\n",
      "Normalized confusion matrix\n",
      "[[0.         0.83333333 0.         0.         0.         0.\n",
      "  0.         0.         0.         0.         0.         0.16666667\n",
      "  0.         0.         0.        ]\n",
      " [0.         0.16666667 0.         0.33333333 0.         0.\n",
      "  0.         0.         0.16666667 0.16666667 0.         0.16666667\n",
      "  0.         0.         0.        ]\n",
      " [0.         0.         0.         0.         0.         0.\n",
      "  0.         0.         0.         1.         0.         0.\n",
      "  0.         0.         0.        ]\n",
      " [0.         0.         0.         0.16666667 0.         0.\n",
      "  0.         0.         0.16666667 0.         0.         0.66666667\n",
      "  0.         0.         0.        ]\n",
      " [0.         0.         0.         0.         0.66666667 0.\n",
      "  0.         0.         0.         0.         0.         0.\n",
      "  0.33333333 0.         0.        ]\n",
      " [0.         0.         0.         0.         0.         0.\n",
      "  0.         0.         0.         0.         1.         0.\n",
      "  0.         0.         0.        ]\n",
      " [0.         0.         0.         0.         0.         0.\n",
      "  0.5        0.         0.         0.         0.         0.\n",
      "  0.         0.         0.5       ]\n",
      " [0.         0.         0.         0.         0.         0.\n",
      "  0.66666667 0.         0.         0.         0.         0.\n",
      "  0.         0.         0.33333333]\n",
      " [0.         0.         0.         0.         0.         0.\n",
      "  0.         0.         1.         0.         0.         0.\n",
      "  0.         0.         0.        ]\n",
      " [0.         0.         0.         0.         0.         0.\n",
      "  0.         0.         0.         1.         0.         0.\n",
      "  0.         0.         0.        ]\n",
      " [0.         0.         0.         0.         0.         0.\n",
      "  0.         0.         0.         0.         1.         0.\n",
      "  0.         0.         0.        ]\n",
      " [0.         0.         0.         0.16666667 0.         0.\n",
      "  0.16666667 0.         0.         0.         0.         0.66666667\n",
      "  0.         0.         0.        ]\n",
      " [0.         0.16666667 0.         0.         0.         0.\n",
      "  0.         0.         0.         0.         0.         0.83333333\n",
      "  0.         0.         0.        ]\n",
      " [0.         0.         0.         0.         0.         0.\n",
      "  0.         0.         0.         0.33333333 0.         0.\n",
      "  0.         0.66666667 0.        ]\n",
      " [0.         0.         0.         0.         0.         0.\n",
      "  0.         0.         0.         0.         0.         0.\n",
      "  0.         0.         1.        ]]\n"
     ]
    },
    {
     "name": "stderr",
     "output_type": "stream",
     "text": [
      "/home/05563/dl33629/WORK/anaconda3/lib/python3.6/site-packages/sklearn/metrics/classification.py:1135: UndefinedMetricWarning: F-score is ill-defined and being set to 0.0 in labels with no predicted samples.\n",
      "  'precision', 'predicted', average, warn_for)\n",
      "/home/05563/dl33629/WORK/anaconda3/lib/python3.6/site-packages/sklearn/metrics/classification.py:1135: UndefinedMetricWarning: Precision is ill-defined and being set to 0.0 in labels with no predicted samples.\n",
      "  'precision', 'predicted', average, warn_for)\n"
     ]
    },
    {
     "data": {
      "image/png": "[encoded data removed]",
      "text/plain": [
       "<matplotlib.figure.Figure at 0x2b7065effda0>"
      ]
     },
     "metadata": {},
     "output_type": "display_data"
    }
   ],
   "source": [
    "'''Prediction and results analysis'''\n",
    "\n",
    "import itertools\n",
    "import matplotlib.pyplot as plt\n",
    "\n",
    "\"\"\"\n",
    "Function to print and plot the confusion matrix.\n",
    "Normalization can be applied by setting `normalize=True`.\n",
    "Template adopted from on line!\n",
    "\"\"\"\n",
    "def plot_confusion_matrix(cm, classes,\n",
    "                          normalize=False,\n",
    "                          title='Confusion matrix',\n",
    "                          cmap=plt.cm.Blues):\n",
    "\n",
    "    if normalize:\n",
    "        cm = cm.astype('float') / cm.sum(axis=1)[:, np.newaxis]\n",
    "        print(\"Normalized confusion matrix\")\n",
    "    else:\n",
    "        print('Confusion matrix, without normalization')\n",
    "\n",
    "    print(cm)\n",
    "\n",
    "    plt.imshow(cm, interpolation='nearest', cmap=cmap)\n",
    "    plt.title(title)\n",
    "    plt.colorbar()\n",
    "    tick_marks = np.arange(len(classes))\n",
    "    plt.xticks(tick_marks, classes, rotation=45)\n",
    "    plt.yticks(tick_marks, classes)\n",
    "\n",
    "    fmt = '.2f' if normalize else 'd'\n",
    "    thresh = cm.max() / 2.\n",
    "    for i, j in itertools.product(range(cm.shape[0]), range(cm.shape[1])):\n",
    "        plt.text(j, i, format(cm[i, j], fmt),\n",
    "                 horizontalalignment=\"center\",\n",
    "                 color=\"white\" if cm[i, j] > thresh else \"black\")\n",
    "\n",
    "    plt.tight_layout()\n",
    "    plt.ylabel('Ground True Activities')\n",
    "    plt.xlabel('Predicted Activities')\n",
    "\n",
    "\n",
    "'''Predictions'''\n",
    "prediction = []\n",
    "prediction.append(clf.predict(test_data_mean))   #from test_data_mean[1:]\n",
    "print('Prediction:', prediction[0][:10])\n",
    "C = confusion_matrix(truthLabels, prediction[0])\n",
    "acc = accuracy_score(truthLabels, prediction[0])\n",
    "F1 = f1_score(truthLabels, prediction[0], average='weighted')\n",
    "precision = precision_score(truthLabels, prediction[0], average='weighted')\n",
    "recall = recall_score(truthLabels, prediction[0], average='weighted')\n",
    "\n",
    "\n",
    "print('acc:', acc, '\\n', 'F1:', F1, '\\n', 'precision:', precision, '\\n', 'recall:', recall)\n",
    "\n",
    "\n",
    "'''Plot confusion matrix'''\n",
    "plt.figure(num=1, figsize=(10,10))\n",
    "display_names = classes\n",
    "plot_confusion_matrix(C, classes=display_names, normalize=True,\n",
    "                      title='Predicted Results')\n",
    "plt.show()"
   ]
  },
  {
   "cell_type": "code",
   "execution_count": null,
   "metadata": {
    "collapsed": true
   },
   "outputs": [],
   "source": []
  }
 ],
 "metadata": {
  "kernelspec": {
   "display_name": "Python 3",
   "language": "python",
   "name": "python3"
  },
  "language_info": {
   "codemirror_mode": {
    "name": "ipython",
    "version": 3
   },
   "file_extension": ".py",
   "mimetype": "text/x-python",
   "name": "python",
   "nbconvert_exporter": "python",
   "pygments_lexer": "ipython3",
   "version": "3.6.2"
  }
 },
 "nbformat": 4,
 "nbformat_minor": 2
}
