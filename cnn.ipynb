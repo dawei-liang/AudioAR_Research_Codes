{
 "cells": [
  {
   "cell_type": "code",
   "execution_count": 46,
   "metadata": {
    "collapsed": true
   },
   "outputs": [],
   "source": [
    "# -*- coding: utf-8 -*-\n",
    "\"\"\"\n",
    "Created on Thu Feb  8 17:03:20 2018\n",
    "\n",
    "@author: david\n",
    "\"\"\"\n",
    "\n",
    "'''This is the main file to train CNN on the Audio Set data and load model for evaluation on real-world data'''\n",
    "\n",
    "import os\n",
    "import pandas as pd\n",
    "import numpy as np\n",
    "\n",
    "from sklearn.model_selection import train_test_split\n",
    "from sklearn.ensemble import RandomForestClassifier\n",
    "from sklearn.svm import LinearSVC\n",
    "from sklearn.svm import SVC\n",
    "from sklearn import tree\n",
    "from sklearn.neighbors import KNeighborsClassifier\n",
    "\n",
    "from sklearn.metrics import confusion_matrix, f1_score, precision_score, recall_score,accuracy_score\n",
    "\n",
    "dataset_dir = './CSV_files/'   # Path to load raw Audio Set data\n",
    "resampling_path = './replacement_data/'   # Path to load oversampled Audio Set training data\n",
    "test_data_dir = './'   # Path to load real-world data for dedicated study\n",
    "save_model_dir = './well_trained_classifiers_replacement/'   # Path to save/load CNN model\n",
    "\n",
    "classes = ['Bathing',\n",
    "          'Flushing toilet',\n",
    "          'Brushing teeth',\n",
    "          'Shavering',\n",
    "          'Frying food',\n",
    "          'Chopping food',\n",
    "          'Using microwave oven',\n",
    "          'Boiling water', \n",
    "          'Squeezing juice',\n",
    "          'Watching TV', \n",
    "          'Playing Music', \n",
    "          'Vacuum cleaning',  \n",
    "          'Washing',\n",
    "          'Chatting', \n",
    "          'Strolling']\n",
    "\n",
    "using_raw_data = False   # True: using raw embeddings; False: using oversampled embeddings\n"
   ]
  },
  {
   "cell_type": "code",
   "execution_count": 38,
   "metadata": {
    "collapsed": true
   },
   "outputs": [],
   "source": [
    "def uint8_to_float32(x):   # Standardrization\n",
    "    return (np.float32(x) - 128.) / 128."
   ]
  },
  {
   "cell_type": "code",
   "execution_count": 39,
   "metadata": {},
   "outputs": [],
   "source": [
    "'''Codes to load raw embeddings'''\n",
    "\n",
    "\n",
    "if using_raw_data == True:\n",
    "    training_data = [pd.DataFrame() for i in range(len(classes))]\n",
    "    training_labels = [] \n",
    "    training_data_fit = pd.DataFrame()\n",
    "    \n",
    "    '''Input raw embeddings'''  \n",
    "    training_sets = [x for x in os.listdir(dataset_dir) if x.endswith('.csv')]\n",
    "    print (training_sets)\n",
    "    for file_name in training_sets:\n",
    "        class_index = int(file_name.split('_')[-1].strip('.csv'))\n",
    "        temp_data = pd.read_csv(dataset_dir + file_name, header=None)\n",
    "        # 11 single classes, filter 'lawn mower' (csv index 12)\n",
    "        if class_index <= 11:   \n",
    "            training_data[class_index] = training_data[class_index].append(temp_data)\n",
    "        # Washing\n",
    "        elif class_index == 13 or class_index == 14:   \n",
    "            training_data[12] = training_data[12].append(temp_data)\n",
    "        # Chatting\n",
    "        elif class_index == 15 or class_index == 16:   \n",
    "            training_data[13] = training_data[13].append(temp_data)\n",
    "        # Strolling\n",
    "        elif class_index == 17 or class_index == 18:   \n",
    "            training_data[14] = training_data[14].append(temp_data)\n",
    "    for i in range(len(training_data)):\n",
    "        training_data[i] = pd.DataFrame(training_data[i])\n",
    "        print('# of %s' % classes[i] + ' embeddings: %d' % training_data[i].shape[0], '\\n')\n",
    "        training_data_fit = training_data_fit.append(training_data[i])\n",
    "        \n",
    "    training_data_fit = training_data_fit.values   # Training data to fit the classifiers\n",
    "    print('Total training set size:', training_data_fit.shape, '\\n')\n",
    "    \n",
    "    '''Set training labels'''\n",
    "    for i in range(len(training_data)):\n",
    "        label_count = 0\n",
    "        for row in range(training_data[i].shape[0]):   # Set training labels for each class\n",
    "            training_labels.append(i)\n",
    "            label_count += 1\n",
    "        print('# of %s' % classes[i] + ' labels: %d' % label_count)\n",
    "    training_labels = np.asarray(training_labels)\n",
    "    training_labels = np.ndarray.flatten(training_labels)   # Training labels to fit the classifiers\n",
    "    print('Total training label size:', training_labels.shape, '\\n')"
   ]
  },
  {
   "cell_type": "code",
   "execution_count": null,
   "metadata": {
    "collapsed": true
   },
   "outputs": [],
   "source": []
  },
  {
   "cell_type": "code",
   "execution_count": 41,
   "metadata": {},
   "outputs": [
    {
     "name": "stdout",
     "output_type": "stream",
     "text": [
      "training_data_fit shape: (2613300, 128)\n",
      "training_labels shape: (2613300, 1)\n"
     ]
    }
   ],
   "source": [
    "'''Codes to load oversampled embeddings'''  \n",
    "\n",
    "if using_raw_data == False:\n",
    "    training_data_fit = pd.read_csv(resampling_path + 'replacement_data_15classes.csv',\n",
    "                                    header=None).values   # Training set\n",
    "    training_labels = pd.read_csv(resampling_path + 'replacement_labels_15classes.csv',\n",
    "                                    header=None).values\n",
    "    print ('training_data_fit shape:', training_data_fit.shape)\n",
    "    print ('training_labels shape:', training_labels.shape)\n",
    "    \n"
   ]
  },
  {
   "cell_type": "code",
   "execution_count": 42,
   "metadata": {},
   "outputs": [
    {
     "name": "stdout",
     "output_type": "stream",
     "text": [
      "training_data_fit shape: (2351970, 128)\n",
      "training_labels shape: (2351970, 1)\n",
      "eval_data_fit shape: (261330, 128)\n",
      "eval_labels shape: (261330, 1)\n"
     ]
    }
   ],
   "source": [
    "'''Train validation split'''\n",
    "\n",
    "\n",
    "training_data_fit, eval_data, training_labels, eval_labels = train_test_split(training_data_fit, training_labels, \n",
    "                                                                              test_size=0.1,\n",
    "                                                                             random_state=0)\n",
    "print ('training_data_fit shape:', training_data_fit.shape)\n",
    "print ('training_labels shape:', training_labels.shape)\n",
    "print ('eval_data_fit shape:', eval_data.shape)\n",
    "print ('eval_labels shape:', eval_labels.shape)\n",
    "\n"
   ]
  },
  {
   "cell_type": "code",
   "execution_count": 43,
   "metadata": {},
   "outputs": [
    {
     "name": "stdout",
     "output_type": "stream",
     "text": [
      "(261330, 128, 1) (261330, 15)\n"
     ]
    }
   ],
   "source": [
    "'''One-hot encoding of the validation set for CNN'''\n",
    "\n",
    "from keras.utils import np_utils\n",
    "\n",
    "eval_data = np.reshape(eval_data, (eval_data.shape[0], 128, 1))   # reshape as (#,128,1) for CNN\n",
    "eval_labels = np_utils.to_categorical(eval_labels, 15)\n",
    "eval_set=(eval_data, eval_labels)\n",
    "print(eval_set[0].shape, eval_set[1].shape)"
   ]
  },
  {
   "cell_type": "code",
   "execution_count": 30,
   "metadata": {},
   "outputs": [
    {
     "name": "stdout",
     "output_type": "stream",
     "text": [
      "test_data_mean.shape: (90, 128) \n",
      "\n"
     ]
    }
   ],
   "source": [
    "''' Load dedicated study data '''\n",
    "\n",
    "file_test = pd.read_csv(test_data_dir + 'feasibility_overall_0726.csv',\n",
    "                        header=None)   # Load evaluation set\n",
    "test_data = file_test.values[:,0:128]\n",
    "test_data = uint8_to_float32(test_data)\n",
    "array_stack = test_data[0]   # Create an array to store the meaned test data\n",
    "\n",
    "i = 0\n",
    "while i < test_data.shape[0]-9:   # Average every 10 sec\n",
    "    try:\n",
    "        temp = test_data[i]\n",
    "        temp = np.vstack((temp, test_data[i+1]))\n",
    "        temp = np.vstack((temp, test_data[i+2]))\n",
    "        temp = np.vstack((temp, test_data[i+3]))\n",
    "        temp = np.vstack((temp, test_data[i+4]))\n",
    "        temp = np.vstack((temp, test_data[i+5]))\n",
    "        temp = np.vstack((temp, test_data[i+6]))\n",
    "        temp = np.vstack((temp, test_data[i+7]))\n",
    "        temp = np.vstack((temp, test_data[i+8]))\n",
    "        temp = np.vstack((temp, test_data[i+9]))\n",
    "        array_stack = np.vstack((array_stack, np.mean(temp, axis = 0)))\n",
    "        i += 10\n",
    "    except:\n",
    "        print('Segment not able to be grouped by 10 seconds')\n",
    "        pass\n",
    "test_data_mean = array_stack[1:,:]   # Meaned test data to predict\n",
    "print('test_data_mean.shape:', test_data_mean.shape, '\\n')"
   ]
  },
  {
   "cell_type": "code",
   "execution_count": 31,
   "metadata": {},
   "outputs": [
    {
     "name": "stdout",
     "output_type": "stream",
     "text": [
      "TruthLabels shape: (90,) \n",
      "\n"
     ]
    }
   ],
   "source": [
    "'''Set dedicated study groud truth labels'''   \n",
    "truthLabels = []   # Groundtruth for evaluation data\n",
    "\n",
    "for i in range(len(classes)):\n",
    "    test_label_count = 0\n",
    "    for test_label_count in range(0, int(test_data_mean.shape[0] / len(classes))):\n",
    "        truthLabels.append(i)\n",
    "    continue\n",
    "truthLabels = np.asarray(truthLabels)\n",
    "truthLabels = np.ndarray.flatten(truthLabels)\n",
    "print('TruthLabels shape:', truthLabels.shape, '\\n')"
   ]
  },
  {
   "cell_type": "code",
   "execution_count": 44,
   "metadata": {},
   "outputs": [
    {
     "name": "stdout",
     "output_type": "stream",
     "text": [
      "0\n"
     ]
    }
   ],
   "source": [
    "print(truthLabels[0])"
   ]
  },
  {
   "cell_type": "code",
   "execution_count": 45,
   "metadata": {},
   "outputs": [
    {
     "name": "stdout",
     "output_type": "stream",
     "text": [
      "Deep learning starts...\n",
      "train_data shape: (2351970, 128, 1)\n",
      "train_labels shape: (2351970, 15)\n",
      "Train on 2351970 samples, validate on 261330 samples\n",
      "Epoch 1/20\n",
      "2351970/2351970 [==============================] - 176s - loss: 1.5368 - acc: 0.5179 - val_loss: 1.4973 - val_acc: 0.5281\n",
      "Epoch 2/20\n",
      "2351970/2351970 [==============================] - 175s - loss: 1.4984 - acc: 0.5281 - val_loss: 1.4949 - val_acc: 0.5282\n",
      "Epoch 3/20\n",
      "2351970/2351970 [==============================] - 175s - loss: 1.4969 - acc: 0.5289 - val_loss: 1.4933 - val_acc: 0.5299\n",
      "Epoch 4/20\n",
      "2351970/2351970 [==============================] - 176s - loss: 1.4963 - acc: 0.5290 - val_loss: 1.4928 - val_acc: 0.5300\n",
      "Epoch 5/20\n",
      "2351970/2351970 [==============================] - 175s - loss: 1.4958 - acc: 0.5292 - val_loss: 1.4932 - val_acc: 0.5305\n",
      "Epoch 6/20\n",
      "2351970/2351970 [==============================] - 176s - loss: 1.4955 - acc: 0.5293 - val_loss: 1.4930 - val_acc: 0.5293\n",
      "Epoch 7/20\n",
      "2351970/2351970 [==============================] - 175s - loss: 1.4952 - acc: 0.5295 - val_loss: 1.4921 - val_acc: 0.5294\n",
      "Epoch 8/20\n",
      "2351970/2351970 [==============================] - 175s - loss: 1.4950 - acc: 0.5294 - val_loss: 1.4922 - val_acc: 0.5304\n",
      "Epoch 9/20\n",
      "2351970/2351970 [==============================] - 175s - loss: 1.4948 - acc: 0.5296 - val_loss: 1.4923 - val_acc: 0.5303\n",
      "Epoch 10/20\n",
      "2351970/2351970 [==============================] - 175s - loss: 1.4948 - acc: 0.5295 - val_loss: 1.4917 - val_acc: 0.5300\n",
      "Epoch 11/20\n",
      "2351970/2351970 [==============================] - 175s - loss: 1.4946 - acc: 0.5296 - val_loss: 1.4917 - val_acc: 0.5299\n",
      "Epoch 12/20\n",
      "2351970/2351970 [==============================] - 175s - loss: 1.4945 - acc: 0.5295 - val_loss: 1.4920 - val_acc: 0.5303\n",
      "Epoch 13/20\n",
      "2351970/2351970 [==============================] - 175s - loss: 1.4944 - acc: 0.5297 - val_loss: 1.4916 - val_acc: 0.5303\n",
      "Epoch 14/20\n",
      "2351970/2351970 [==============================] - 175s - loss: 1.4943 - acc: 0.5296 - val_loss: 1.4914 - val_acc: 0.5310\n",
      "Epoch 15/20\n",
      "2351970/2351970 [==============================] - 175s - loss: 1.4942 - acc: 0.5297 - val_loss: 1.4919 - val_acc: 0.5304\n",
      "Epoch 16/20\n",
      "2351970/2351970 [==============================] - 175s - loss: 1.4941 - acc: 0.5298 - val_loss: 1.4916 - val_acc: 0.5310\n",
      "Epoch 17/20\n",
      "2351970/2351970 [==============================] - 175s - loss: 1.4941 - acc: 0.5297 - val_loss: 1.4916 - val_acc: 0.5300\n",
      "Epoch 18/20\n",
      "2351970/2351970 [==============================] - 175s - loss: 1.4940 - acc: 0.5297 - val_loss: 1.4915 - val_acc: 0.5303\n",
      "Epoch 19/20\n",
      "2351970/2351970 [==============================] - 175s - loss: 1.4940 - acc: 0.5298 - val_loss: 1.4911 - val_acc: 0.5310\n",
      "Epoch 20/20\n",
      "2351970/2351970 [==============================] - 175s - loss: 1.4940 - acc: 0.5297 - val_loss: 1.4913 - val_acc: 0.5313\n",
      "Well trained\n"
     ]
    }
   ],
   "source": [
    "'''CNN training'''\n",
    "\n",
    "from keras.models import Sequential\n",
    "from keras.layers import Dense, Conv1D, Flatten, Dropout, BatchNormalization, Activation, MaxPooling1D\n",
    "from keras.optimizers import SGD, Adadelta\n",
    "from keras.losses import categorical_crossentropy\n",
    "from keras.callbacks import Callback\n",
    "from keras.utils import np_utils\n",
    "import matplotlib.pyplot as plt\n",
    "\n",
    "from numpy.random import seed\n",
    "\n",
    "'''Fix random seed'''\n",
    "seed(0)\n",
    "from tensorflow import set_random_seed\n",
    "set_random_seed(0)\n",
    "\n",
    "\n",
    "def cnn_model_fn(train_data, train_labels):\n",
    "        model = Sequential()\n",
    "        model.add(Conv1D(19, 5, strides=1, activation='linear', padding=\"same\", input_shape=(128,1)))\n",
    "        model.add(Conv1D(20, 5, strides=1, activation='linear', padding=\"same\"))\n",
    "        model.add(Conv1D(30, 5, strides=1, activation='linear', padding=\"same\"))       \n",
    "        model.add(Flatten())\n",
    "        model.add(Dense(500))\n",
    "        model.add(Dense(15, activation='softmax'))\n",
    "            \n",
    "        opt = SGD(lr=0.001, decay=1e-6, momentum=0.9, nesterov=True)\n",
    "        loss = categorical_crossentropy\n",
    "        model.compile(loss=loss,\n",
    "                  optimizer=opt,\n",
    "                  metrics=['accuracy'])\n",
    "        \n",
    "        train_data = np.reshape(train_data, (train_data.shape[0], 128, 1))   # Reshape training data as (#,128,1) for CNN\n",
    "        train_labels = np_utils.to_categorical(train_labels, 15)   # One-hot encoding for training labels: (#,15)\n",
    "        print('train_data shape:', train_data.shape)\n",
    "        print('train_labels shape:', train_labels.shape)\n",
    "        \n",
    "        model.fit(train_data, train_labels,   \n",
    "                batch_size=100,\n",
    "                epochs=20,\n",
    "                verbose=1,\n",
    "                validation_data=eval_set,\n",
    "                shuffle=True)\n",
    "        \n",
    "        return model   # Well-trained model\n",
    "\n",
    "\n",
    "''' Training '''\n",
    "\n",
    "print('Deep learning starts...')\n",
    "  \n",
    "clf = cnn_model_fn(training_data_fit, training_labels)\n",
    "print('Well trained')\n"
   ]
  },
  {
   "cell_type": "code",
   "execution_count": 47,
   "metadata": {},
   "outputs": [
    {
     "name": "stdout",
     "output_type": "stream",
     "text": [
      "Model saved\n"
     ]
    }
   ],
   "source": [
    "'''Save model and architecture'''\n",
    "\n",
    "clf.save(save_model_dir + 'replacement_cnn_base4_15classes_20epoch.h5')   # Save model\n",
    "yaml_string = clf.to_yaml()\n",
    "with open(save_model_dir + \\\n",
    "          'replacement_cnn_base4_15classes_20epoch.yaml', 'w') as f:   # Save architecture\n",
    "    f.write(yaml_string)\n",
    "f.close()\n",
    "print('Model saved')"
   ]
  },
  {
   "cell_type": "code",
   "execution_count": 48,
   "metadata": {},
   "outputs": [
    {
     "name": "stdout",
     "output_type": "stream",
     "text": [
      "Model loaded\n"
     ]
    }
   ],
   "source": [
    "'''Load model'''\n",
    "from keras.models import load_model\n",
    "\n",
    "clf = load_model(save_model_dir + 'replacement_cnn_base4_15classes_20epoch.h5')\n",
    "print('Model loaded')"
   ]
  },
  {
   "cell_type": "code",
   "execution_count": 49,
   "metadata": {},
   "outputs": [
    {
     "name": "stdout",
     "output_type": "stream",
     "text": [
      "prediction_from_cnn.shape: (90,)\n",
      "First 10 prediction: [0, 0, 0, 0, 0, 11, 7, 11, 8, 3]\n",
      "acc: 0.8111111111111111 \n",
      " F1: 0.8003954868660751 \n",
      " precision: 0.8573160173160173 \n",
      " recall: 0.8111111111111111\n",
      "Normalized confusion matrix\n",
      "[[0.83333333 0.         0.         0.         0.         0.\n",
      "  0.         0.         0.         0.         0.         0.16666667\n",
      "  0.         0.         0.        ]\n",
      " [0.         0.16666667 0.         0.16666667 0.         0.\n",
      "  0.         0.16666667 0.33333333 0.         0.         0.16666667\n",
      "  0.         0.         0.        ]\n",
      " [0.         0.         0.66666667 0.         0.         0.\n",
      "  0.         0.         0.33333333 0.         0.         0.\n",
      "  0.         0.         0.        ]\n",
      " [0.         0.         0.         0.83333333 0.         0.\n",
      "  0.         0.         0.         0.         0.         0.16666667\n",
      "  0.         0.         0.        ]\n",
      " [0.         0.         0.         0.         0.66666667 0.\n",
      "  0.         0.33333333 0.         0.         0.         0.\n",
      "  0.         0.         0.        ]\n",
      " [0.         0.         0.         0.         0.         1.\n",
      "  0.         0.         0.         0.         0.         0.\n",
      "  0.         0.         0.        ]\n",
      " [0.         0.         0.         0.         0.         0.\n",
      "  1.         0.         0.         0.         0.         0.\n",
      "  0.         0.         0.        ]\n",
      " [0.         0.         0.         0.         0.         0.\n",
      "  0.16666667 0.5        0.         0.         0.         0.33333333\n",
      "  0.         0.         0.        ]\n",
      " [0.         0.         0.         0.         0.         0.\n",
      "  0.         0.         1.         0.         0.         0.\n",
      "  0.         0.         0.        ]\n",
      " [0.         0.         0.         0.         0.         0.\n",
      "  0.         0.         0.         1.         0.         0.\n",
      "  0.         0.         0.        ]\n",
      " [0.         0.         0.         0.         0.         0.\n",
      "  0.         0.         0.         0.         1.         0.\n",
      "  0.         0.         0.        ]\n",
      " [0.         0.         0.         0.         0.         0.\n",
      "  0.         0.         0.         0.         0.         1.\n",
      "  0.         0.         0.        ]\n",
      " [0.         0.         0.         0.         0.         0.\n",
      "  0.         0.         0.         0.         0.         0.\n",
      "  1.         0.         0.        ]\n",
      " [0.         0.         0.33333333 0.         0.         0.\n",
      "  0.         0.         0.         0.         0.         0.\n",
      "  0.         0.66666667 0.        ]\n",
      " [0.         0.         0.         0.         0.         0.16666667\n",
      "  0.         0.         0.         0.         0.         0.\n",
      "  0.         0.         0.83333333]]\n"
     ]
    },
    {
     "data": {
      "image/png": "[encoded data removed]",
      "text/plain": [
       "<matplotlib.figure.Figure at 0x2b52dfc31da0>"
      ]
     },
     "metadata": {},
     "output_type": "display_data"
    }
   ],
   "source": [
    "'''Prediction and results analysis'''\n",
    "\n",
    "import itertools\n",
    "\n",
    "\"\"\"\n",
    "Function to print and plot the confusion matrix.\n",
    "Normalization can be applied by setting `normalize=True`.\n",
    "Template adopted from on line!\n",
    "\"\"\"\n",
    "def plot_confusion_matrix(cm, classes,\n",
    "                          normalize=False,\n",
    "                          title='Confusion matrix',\n",
    "                          cmap=plt.cm.Blues):\n",
    "\n",
    "    if normalize:\n",
    "        cm = cm.astype('float') / cm.sum(axis=1)[:, np.newaxis]\n",
    "        print(\"Normalized confusion matrix\")\n",
    "    else:\n",
    "        print('Confusion matrix, without normalization')\n",
    "\n",
    "    print(cm)\n",
    "\n",
    "    plt.imshow(cm, interpolation='nearest', cmap=cmap)\n",
    "    plt.title(title)\n",
    "    plt.colorbar()\n",
    "    tick_marks = np.arange(len(classes))\n",
    "    plt.xticks(tick_marks, classes, rotation=45)\n",
    "    plt.yticks(tick_marks, classes)\n",
    "\n",
    "    fmt = '.2f' if normalize else 'd'\n",
    "    thresh = cm.max() / 2.\n",
    "    for i, j in itertools.product(range(cm.shape[0]), range(cm.shape[1])):\n",
    "        plt.text(j, i, format(cm[i, j], fmt),\n",
    "                 horizontalalignment=\"center\",\n",
    "                 color=\"white\" if cm[i, j] > thresh else \"black\")\n",
    "\n",
    "    plt.tight_layout()\n",
    "    plt.ylabel('Ground True Activities')\n",
    "    plt.xlabel('Predicted Activities')\n",
    "\n",
    "\n",
    "'''Predictions'''\n",
    "test_data_mean = np.reshape(test_data_mean, (test_data_mean.shape[0], 128, 1))   # Reshape test data as (#,128,1) for CNN\n",
    "prediction_from_cnn = clf.predict(test_data_mean)\n",
    "\n",
    "prediction_from_cnn = np.argmax(prediction_from_cnn, axis=1)   # Convert predicted one-hot labels to list\n",
    "print ('prediction_from_cnn.shape:', prediction_from_cnn.shape)\n",
    "prediction = []\n",
    "for i in range(len(prediction_from_cnn)):   # Convert int labels to str\n",
    "    prediction.append(prediction_from_cnn[i])\n",
    "print('First 10 prediction:', prediction[:10])\n",
    "\n",
    "'''Analysis'''\n",
    "C = confusion_matrix(truthLabels, prediction)\n",
    "acc = accuracy_score(truthLabels, prediction)\n",
    "F1 = f1_score(truthLabels, prediction, average='weighted')\n",
    "precision = precision_score(truthLabels, prediction, average='weighted')\n",
    "recall = recall_score(truthLabels, prediction, average='weighted')\n",
    "\n",
    "print('acc:', acc, '\\n', 'F1:', F1, '\\n', 'precision:', precision, '\\n', 'recall:', recall)\n",
    "\n",
    "\n",
    "'''Plot confusion matrix'''\n",
    "plt.figure(num=1, figsize=(10,10))\n",
    "display_names = classes\n",
    "plot_confusion_matrix(C, classes=display_names, normalize=True,\n",
    "                      title='Predicted Results')\n",
    "plt.show()\n"
   ]
  },
  {
   "cell_type": "code",
   "execution_count": null,
   "metadata": {
    "collapsed": true
   },
   "outputs": [],
   "source": []
  },
  {
   "cell_type": "code",
   "execution_count": null,
   "metadata": {
    "collapsed": true
   },
   "outputs": [],
   "source": []
  }
 ],
 "metadata": {
  "kernelspec": {
   "display_name": "Python 3",
   "language": "python",
   "name": "python3"
  },
  "language_info": {
   "codemirror_mode": {
    "name": "ipython",
    "version": 3
   },
   "file_extension": ".py",
   "mimetype": "text/x-python",
   "name": "python",
   "nbconvert_exporter": "python",
   "pygments_lexer": "ipython3",
   "version": "3.6.2"
  }
 },
 "nbformat": 4,
 "nbformat_minor": 2
}
